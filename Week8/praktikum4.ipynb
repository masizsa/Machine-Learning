{
 "cells": [
  {
   "cell_type": "code",
   "execution_count": 3,
   "metadata": {},
   "outputs": [],
   "source": [
    "import numpy as np\n",
    "import pandas as pd\n",
    "import tensorflow as tf"
   ]
  },
  {
   "cell_type": "code",
   "execution_count": 5,
   "metadata": {},
   "outputs": [
    {
     "name": "stdout",
     "output_type": "stream",
     "text": [
      "[[619 'France' 'Female' ... 1 1 101348.88]\n",
      " [608 'Spain' 'Female' ... 0 1 112542.58]\n",
      " [502 'France' 'Female' ... 1 0 113931.57]\n",
      " ...\n",
      " [709 'France' 'Female' ... 0 1 42085.58]\n",
      " [772 'Germany' 'Male' ... 1 0 92888.52]\n",
      " [792 'France' 'Female' ... 1 0 38190.78]]\n"
     ]
    }
   ],
   "source": [
    "dataset = pd.read_csv('dataset/Churn_Modelling.csv')\n",
    "X = dataset.iloc[:, 3:-1].values\n",
    "y = dataset.iloc[:, -1].values\n",
    "\n",
    "print(X)"
   ]
  },
  {
   "cell_type": "markdown",
   "metadata": {},
   "source": [
    "## Encoding data kategori"
   ]
  },
  {
   "cell_type": "code",
   "execution_count": 7,
   "metadata": {},
   "outputs": [],
   "source": [
    "from sklearn.preprocessing import LabelEncoder\n",
    "\n",
    "le = LabelEncoder()\n",
    "X[:, 2] = le.fit_transform(X[:, 2])"
   ]
  },
  {
   "cell_type": "markdown",
   "metadata": {},
   "source": [
    "## One hot encoding"
   ]
  },
  {
   "cell_type": "code",
   "execution_count": 8,
   "metadata": {},
   "outputs": [],
   "source": [
    "from sklearn.compose import ColumnTransformer\n",
    "from sklearn.preprocessing import OneHotEncoder\n",
    "\n",
    "ct = ColumnTransformer(transformers=[('encoder', OneHotEncoder(), [1])], remainder='passthrough')\n",
    "X = np.array(ct.fit_transform(X))"
   ]
  },
  {
   "cell_type": "markdown",
   "metadata": {},
   "source": [
    "## Split data"
   ]
  },
  {
   "cell_type": "code",
   "execution_count": 9,
   "metadata": {},
   "outputs": [],
   "source": [
    "from sklearn.model_selection import train_test_split\n",
    "\n",
    "X_train, X_test, y_train, y_test = train_test_split(X, y, test_size=0.2, random_state=0)"
   ]
  },
  {
   "cell_type": "markdown",
   "metadata": {},
   "source": [
    "## Feature scaling"
   ]
  },
  {
   "cell_type": "code",
   "execution_count": 10,
   "metadata": {},
   "outputs": [],
   "source": [
    "from sklearn.preprocessing import StandardScaler\n",
    "\n",
    "sc = StandardScaler()\n",
    "X_train = sc.fit_transform(X_train)\n",
    "X_test = sc.transform(X_test)"
   ]
  },
  {
   "cell_type": "markdown",
   "metadata": {},
   "source": [
    "## Buat model"
   ]
  },
  {
   "cell_type": "code",
   "execution_count": 11,
   "metadata": {},
   "outputs": [],
   "source": [
    "ann = tf.keras.models.Sequential()"
   ]
  },
  {
   "cell_type": "markdown",
   "metadata": {},
   "source": [
    "## Tambahkan layer"
   ]
  },
  {
   "cell_type": "code",
   "execution_count": 12,
   "metadata": {},
   "outputs": [],
   "source": [
    "ann.add(tf.keras.layers.Dense(units=6, activation='relu'))\n",
    "ann.add(tf.keras.layers.Dense(units=6, activation='relu'))\n",
    "ann.add(tf.keras.layers.Dense(units=1, activation='sigmoid'))"
   ]
  },
  {
   "cell_type": "markdown",
   "metadata": {},
   "source": [
    "## Compile Model"
   ]
  },
  {
   "cell_type": "code",
   "execution_count": 13,
   "metadata": {},
   "outputs": [],
   "source": [
    "ann.compile(optimizer='adam', loss='binary_crossentropy', metrics=['accuracy'])"
   ]
  },
  {
   "cell_type": "markdown",
   "metadata": {},
   "source": [
    "## Fit model"
   ]
  },
  {
   "cell_type": "code",
   "execution_count": 14,
   "metadata": {},
   "outputs": [
    {
     "name": "stdout",
     "output_type": "stream",
     "text": [
      "Epoch 1/100\n",
      "250/250 [==============================] - 1s 602us/step - loss: 0.5259 - accuracy: 0.7912\n",
      "Epoch 2/100\n",
      "250/250 [==============================] - 0s 518us/step - loss: 0.4633 - accuracy: 0.7960\n",
      "Epoch 3/100\n",
      "250/250 [==============================] - 0s 545us/step - loss: 0.4388 - accuracy: 0.7986\n",
      "Epoch 4/100\n",
      "250/250 [==============================] - 0s 601us/step - loss: 0.4286 - accuracy: 0.8095\n",
      "Epoch 5/100\n",
      "250/250 [==============================] - 0s 521us/step - loss: 0.4227 - accuracy: 0.8127\n",
      "Epoch 6/100\n",
      "250/250 [==============================] - 0s 524us/step - loss: 0.4179 - accuracy: 0.8149\n",
      "Epoch 7/100\n",
      "250/250 [==============================] - 0s 613us/step - loss: 0.4131 - accuracy: 0.8186\n",
      "Epoch 8/100\n",
      "250/250 [==============================] - 0s 521us/step - loss: 0.4087 - accuracy: 0.8201\n",
      "Epoch 9/100\n",
      "250/250 [==============================] - 0s 543us/step - loss: 0.4042 - accuracy: 0.8217\n",
      "Epoch 10/100\n",
      "250/250 [==============================] - 0s 629us/step - loss: 0.3997 - accuracy: 0.8234\n",
      "Epoch 11/100\n",
      "250/250 [==============================] - 0s 576us/step - loss: 0.3950 - accuracy: 0.8245\n",
      "Epoch 12/100\n",
      "250/250 [==============================] - 0s 555us/step - loss: 0.3907 - accuracy: 0.8256\n",
      "Epoch 13/100\n",
      "250/250 [==============================] - 0s 594us/step - loss: 0.3866 - accuracy: 0.8267\n",
      "Epoch 14/100\n",
      "250/250 [==============================] - 0s 607us/step - loss: 0.3839 - accuracy: 0.8279\n",
      "Epoch 15/100\n",
      "250/250 [==============================] - 0s 723us/step - loss: 0.3808 - accuracy: 0.8281\n",
      "Epoch 16/100\n",
      "250/250 [==============================] - 0s 589us/step - loss: 0.3782 - accuracy: 0.8335\n",
      "Epoch 17/100\n",
      "250/250 [==============================] - 0s 602us/step - loss: 0.3752 - accuracy: 0.8407\n",
      "Epoch 18/100\n",
      "250/250 [==============================] - 0s 603us/step - loss: 0.3716 - accuracy: 0.8429\n",
      "Epoch 19/100\n",
      "250/250 [==============================] - 0s 602us/step - loss: 0.3676 - accuracy: 0.8474\n",
      "Epoch 20/100\n",
      "250/250 [==============================] - 0s 534us/step - loss: 0.3638 - accuracy: 0.8504\n",
      "Epoch 21/100\n",
      "250/250 [==============================] - 0s 530us/step - loss: 0.3600 - accuracy: 0.8547\n",
      "Epoch 22/100\n",
      "250/250 [==============================] - 0s 601us/step - loss: 0.3569 - accuracy: 0.8531\n",
      "Epoch 23/100\n",
      "250/250 [==============================] - 0s 534us/step - loss: 0.3545 - accuracy: 0.8553\n",
      "Epoch 24/100\n",
      "250/250 [==============================] - 0s 602us/step - loss: 0.3518 - accuracy: 0.8586\n",
      "Epoch 25/100\n",
      "250/250 [==============================] - 0s 558us/step - loss: 0.3502 - accuracy: 0.8577\n",
      "Epoch 26/100\n",
      "250/250 [==============================] - 0s 616us/step - loss: 0.3494 - accuracy: 0.8584\n",
      "Epoch 27/100\n",
      "250/250 [==============================] - 0s 560us/step - loss: 0.3486 - accuracy: 0.8569\n",
      "Epoch 28/100\n",
      "250/250 [==============================] - 0s 592us/step - loss: 0.3482 - accuracy: 0.8584\n",
      "Epoch 29/100\n",
      "250/250 [==============================] - 0s 534us/step - loss: 0.3467 - accuracy: 0.8579\n",
      "Epoch 30/100\n",
      "250/250 [==============================] - 0s 597us/step - loss: 0.3468 - accuracy: 0.8589\n",
      "Epoch 31/100\n",
      "250/250 [==============================] - 0s 594us/step - loss: 0.3462 - accuracy: 0.8589\n",
      "Epoch 32/100\n",
      "250/250 [==============================] - 0s 532us/step - loss: 0.3461 - accuracy: 0.8589\n",
      "Epoch 33/100\n",
      "250/250 [==============================] - 0s 548us/step - loss: 0.3452 - accuracy: 0.8595\n",
      "Epoch 34/100\n",
      "250/250 [==============================] - 0s 616us/step - loss: 0.3447 - accuracy: 0.8595\n",
      "Epoch 35/100\n",
      "250/250 [==============================] - 0s 567us/step - loss: 0.3436 - accuracy: 0.8595\n",
      "Epoch 36/100\n",
      "250/250 [==============================] - 0s 522us/step - loss: 0.3429 - accuracy: 0.8627\n",
      "Epoch 37/100\n",
      "250/250 [==============================] - 0s 625us/step - loss: 0.3429 - accuracy: 0.8604\n",
      "Epoch 38/100\n",
      "250/250 [==============================] - 0s 504us/step - loss: 0.3422 - accuracy: 0.8612\n",
      "Epoch 39/100\n",
      "250/250 [==============================] - 0s 542us/step - loss: 0.3426 - accuracy: 0.8583\n",
      "Epoch 40/100\n",
      "250/250 [==============================] - 0s 658us/step - loss: 0.3420 - accuracy: 0.8618\n",
      "Epoch 41/100\n",
      "250/250 [==============================] - 0s 536us/step - loss: 0.3409 - accuracy: 0.8616\n",
      "Epoch 42/100\n",
      "250/250 [==============================] - 0s 540us/step - loss: 0.3411 - accuracy: 0.8612\n",
      "Epoch 43/100\n",
      "250/250 [==============================] - 0s 584us/step - loss: 0.3407 - accuracy: 0.8618\n",
      "Epoch 44/100\n",
      "250/250 [==============================] - 0s 632us/step - loss: 0.3404 - accuracy: 0.8616\n",
      "Epoch 45/100\n",
      "250/250 [==============================] - 0s 563us/step - loss: 0.3400 - accuracy: 0.8631\n",
      "Epoch 46/100\n",
      "250/250 [==============================] - 0s 567us/step - loss: 0.3401 - accuracy: 0.8611\n",
      "Epoch 47/100\n",
      "250/250 [==============================] - 0s 570us/step - loss: 0.3394 - accuracy: 0.8619\n",
      "Epoch 48/100\n",
      "250/250 [==============================] - 0s 521us/step - loss: 0.3396 - accuracy: 0.8626\n",
      "Epoch 49/100\n",
      "250/250 [==============================] - 0s 537us/step - loss: 0.3393 - accuracy: 0.8631\n",
      "Epoch 50/100\n",
      "250/250 [==============================] - 0s 615us/step - loss: 0.3392 - accuracy: 0.8635\n",
      "Epoch 51/100\n",
      "250/250 [==============================] - 0s 575us/step - loss: 0.3388 - accuracy: 0.8630\n",
      "Epoch 52/100\n",
      "250/250 [==============================] - 0s 524us/step - loss: 0.3390 - accuracy: 0.8633\n",
      "Epoch 53/100\n",
      "250/250 [==============================] - 0s 579us/step - loss: 0.3384 - accuracy: 0.8624\n",
      "Epoch 54/100\n",
      "250/250 [==============================] - 0s 559us/step - loss: 0.3385 - accuracy: 0.8625\n",
      "Epoch 55/100\n",
      "250/250 [==============================] - 0s 648us/step - loss: 0.3376 - accuracy: 0.8646\n",
      "Epoch 56/100\n",
      "250/250 [==============================] - 0s 579us/step - loss: 0.3385 - accuracy: 0.8602\n",
      "Epoch 57/100\n",
      "250/250 [==============================] - 0s 627us/step - loss: 0.3379 - accuracy: 0.8616\n",
      "Epoch 58/100\n",
      "250/250 [==============================] - 0s 637us/step - loss: 0.3376 - accuracy: 0.8625\n",
      "Epoch 59/100\n",
      "250/250 [==============================] - 0s 581us/step - loss: 0.3374 - accuracy: 0.8634\n",
      "Epoch 60/100\n",
      "250/250 [==============================] - 0s 598us/step - loss: 0.3375 - accuracy: 0.8626\n",
      "Epoch 61/100\n",
      "250/250 [==============================] - 0s 590us/step - loss: 0.3371 - accuracy: 0.8622\n",
      "Epoch 62/100\n",
      "250/250 [==============================] - 0s 639us/step - loss: 0.3370 - accuracy: 0.8630\n",
      "Epoch 63/100\n",
      "250/250 [==============================] - 0s 553us/step - loss: 0.3365 - accuracy: 0.8594\n",
      "Epoch 64/100\n",
      "250/250 [==============================] - 0s 604us/step - loss: 0.3365 - accuracy: 0.8634\n",
      "Epoch 65/100\n",
      "250/250 [==============================] - 0s 637us/step - loss: 0.3366 - accuracy: 0.8615\n",
      "Epoch 66/100\n",
      "250/250 [==============================] - 0s 617us/step - loss: 0.3360 - accuracy: 0.8630\n",
      "Epoch 67/100\n",
      "250/250 [==============================] - 0s 586us/step - loss: 0.3365 - accuracy: 0.8636\n",
      "Epoch 68/100\n",
      "250/250 [==============================] - 0s 589us/step - loss: 0.3362 - accuracy: 0.8622\n",
      "Epoch 69/100\n",
      "250/250 [==============================] - 0s 576us/step - loss: 0.3361 - accuracy: 0.8626\n",
      "Epoch 70/100\n",
      "250/250 [==============================] - 0s 638us/step - loss: 0.3355 - accuracy: 0.8622\n",
      "Epoch 71/100\n",
      "250/250 [==============================] - 0s 570us/step - loss: 0.3361 - accuracy: 0.8622\n",
      "Epoch 72/100\n",
      "250/250 [==============================] - 0s 558us/step - loss: 0.3354 - accuracy: 0.8635\n",
      "Epoch 73/100\n",
      "250/250 [==============================] - 0s 540us/step - loss: 0.3360 - accuracy: 0.8627\n",
      "Epoch 74/100\n",
      "250/250 [==============================] - 0s 615us/step - loss: 0.3358 - accuracy: 0.8625\n",
      "Epoch 75/100\n",
      "250/250 [==============================] - 0s 495us/step - loss: 0.3354 - accuracy: 0.8633\n",
      "Epoch 76/100\n",
      "250/250 [==============================] - 0s 537us/step - loss: 0.3354 - accuracy: 0.8634\n",
      "Epoch 77/100\n",
      "250/250 [==============================] - 0s 593us/step - loss: 0.3354 - accuracy: 0.8627\n",
      "Epoch 78/100\n",
      "250/250 [==============================] - 0s 533us/step - loss: 0.3353 - accuracy: 0.8626\n",
      "Epoch 79/100\n",
      "250/250 [==============================] - 0s 610us/step - loss: 0.3345 - accuracy: 0.8640\n",
      "Epoch 80/100\n",
      "250/250 [==============================] - 0s 577us/step - loss: 0.3351 - accuracy: 0.8610\n",
      "Epoch 81/100\n",
      "250/250 [==============================] - 0s 547us/step - loss: 0.3349 - accuracy: 0.8649\n",
      "Epoch 82/100\n",
      "250/250 [==============================] - 0s 578us/step - loss: 0.3348 - accuracy: 0.8627\n",
      "Epoch 83/100\n",
      "250/250 [==============================] - 0s 497us/step - loss: 0.3348 - accuracy: 0.8639\n",
      "Epoch 84/100\n",
      "250/250 [==============================] - 0s 539us/step - loss: 0.3346 - accuracy: 0.8621\n",
      "Epoch 85/100\n",
      "250/250 [==============================] - 0s 658us/step - loss: 0.3348 - accuracy: 0.8627\n",
      "Epoch 86/100\n",
      "250/250 [==============================] - 0s 546us/step - loss: 0.3346 - accuracy: 0.8627\n",
      "Epoch 87/100\n",
      "250/250 [==============================] - 0s 604us/step - loss: 0.3349 - accuracy: 0.8621\n",
      "Epoch 88/100\n",
      "250/250 [==============================] - 0s 601us/step - loss: 0.3345 - accuracy: 0.8625\n",
      "Epoch 89/100\n",
      "250/250 [==============================] - 0s 534us/step - loss: 0.3345 - accuracy: 0.8644\n",
      "Epoch 90/100\n",
      "250/250 [==============================] - 0s 532us/step - loss: 0.3350 - accuracy: 0.8621\n",
      "Epoch 91/100\n",
      "250/250 [==============================] - 0s 605us/step - loss: 0.3346 - accuracy: 0.8633\n",
      "Epoch 92/100\n",
      "250/250 [==============================] - 0s 555us/step - loss: 0.3344 - accuracy: 0.8630\n",
      "Epoch 93/100\n",
      "250/250 [==============================] - 0s 575us/step - loss: 0.3344 - accuracy: 0.8645\n",
      "Epoch 94/100\n",
      "250/250 [==============================] - 0s 594us/step - loss: 0.3338 - accuracy: 0.8624\n",
      "Epoch 95/100\n",
      "250/250 [==============================] - 0s 527us/step - loss: 0.3343 - accuracy: 0.8621\n",
      "Epoch 96/100\n",
      "250/250 [==============================] - 0s 534us/step - loss: 0.3343 - accuracy: 0.8634\n",
      "Epoch 97/100\n",
      "250/250 [==============================] - 0s 565us/step - loss: 0.3337 - accuracy: 0.8629\n",
      "Epoch 98/100\n",
      "250/250 [==============================] - 0s 555us/step - loss: 0.3342 - accuracy: 0.8636\n",
      "Epoch 99/100\n",
      "250/250 [==============================] - 0s 570us/step - loss: 0.3340 - accuracy: 0.8627\n",
      "Epoch 100/100\n",
      "250/250 [==============================] - 0s 626us/step - loss: 0.3339 - accuracy: 0.8635\n"
     ]
    },
    {
     "data": {
      "text/plain": [
       "<keras.src.callbacks.History at 0x271ffb620a0>"
      ]
     },
     "execution_count": 14,
     "metadata": {},
     "output_type": "execute_result"
    }
   ],
   "source": [
    "ann.fit(X_train, y_train, batch_size=32, epochs=100)"
   ]
  },
  {
   "cell_type": "markdown",
   "metadata": {},
   "source": [
    "## Preediksi"
   ]
  },
  {
   "cell_type": "code",
   "execution_count": 15,
   "metadata": {},
   "outputs": [
    {
     "name": "stdout",
     "output_type": "stream",
     "text": [
      "1/1 [==============================] - 0s 72ms/step\n",
      "[[False]]\n"
     ]
    }
   ],
   "source": [
    "print(ann.predict(sc.transform([[1, 0, 0, 600, 1, 40, 3, 60000, 2, 1, 1, 50000]])) > 0.5)"
   ]
  },
  {
   "cell_type": "code",
   "execution_count": 16,
   "metadata": {},
   "outputs": [
    {
     "name": "stdout",
     "output_type": "stream",
     "text": [
      "63/63 [==============================] - 0s 884us/step\n",
      "[[0 0]\n",
      " [0 1]\n",
      " [0 0]\n",
      " ...\n",
      " [0 0]\n",
      " [0 0]\n",
      " [0 0]]\n"
     ]
    }
   ],
   "source": [
    "y_pred = ann.predict(X_test)\n",
    "y_pred = (y_pred > 0.5)\n",
    "print(np.concatenate((y_pred.reshape(len(y_pred), 1), y_test.reshape(len(y_test), 1)), 1))"
   ]
  },
  {
   "cell_type": "markdown",
   "metadata": {},
   "source": [
    "## Confussion matrix"
   ]
  },
  {
   "cell_type": "code",
   "execution_count": 17,
   "metadata": {},
   "outputs": [
    {
     "name": "stdout",
     "output_type": "stream",
     "text": [
      "[[1508   87]\n",
      " [ 194  211]]\n"
     ]
    },
    {
     "data": {
      "text/plain": [
       "0.8595"
      ]
     },
     "execution_count": 17,
     "metadata": {},
     "output_type": "execute_result"
    }
   ],
   "source": [
    "from sklearn.metrics import confusion_matrix, accuracy_score\n",
    "\n",
    "cm = confusion_matrix(y_test, y_pred)\n",
    "print(cm)\n",
    "accuracy_score(y_test, y_pred)"
   ]
  }
 ],
 "metadata": {
  "kernelspec": {
   "display_name": "tensorflow",
   "language": "python",
   "name": "python3"
  },
  "language_info": {
   "codemirror_mode": {
    "name": "ipython",
    "version": 3
   },
   "file_extension": ".py",
   "mimetype": "text/x-python",
   "name": "python",
   "nbconvert_exporter": "python",
   "pygments_lexer": "ipython3",
   "version": "3.8.20"
  }
 },
 "nbformat": 4,
 "nbformat_minor": 2
}
