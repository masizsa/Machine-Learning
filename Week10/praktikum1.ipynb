{
 "cells": [
  {
   "cell_type": "markdown",
   "metadata": {},
   "source": [
    "### Langkah 1 - Import Library"
   ]
  },
  {
   "cell_type": "code",
   "execution_count": 1,
   "metadata": {},
   "outputs": [],
   "source": [
    "import tensorflow as tf\n",
    "from tensorflow.keras.preprocessing.image import ImageDataGenerator"
   ]
  },
  {
   "cell_type": "markdown",
   "metadata": {},
   "source": [
    "### Langkah 2 - Pra Pengolahan Data"
   ]
  },
  {
   "cell_type": "markdown",
   "metadata": {},
   "source": [
    "#### Langkah 2.1. Pra Pengolahan Data Training"
   ]
  },
  {
   "cell_type": "code",
   "execution_count": 3,
   "metadata": {},
   "outputs": [
    {
     "name": "stdout",
     "output_type": "stream",
     "text": [
      "Found 8000 images belonging to 2 classes.\n"
     ]
    }
   ],
   "source": [
    "train_datagen = ImageDataGenerator(rescale = 1./255,\n",
    "                                   shear_range = 0.2,\n",
    "                                   zoom_range = 0.2,\n",
    "                                   horizontal_flip = True)\n",
    "training_set = train_datagen.flow_from_directory('dataset/dataset/training_set',\n",
    "                                                 target_size = (64, 64),\n",
    "                                                 batch_size = 32,\n",
    "                                                 class_mode = 'binary')"
   ]
  },
  {
   "cell_type": "markdown",
   "metadata": {},
   "source": [
    "#### Langkah 2.2. Pra Pengolahan Data Testing"
   ]
  },
  {
   "cell_type": "code",
   "execution_count": 4,
   "metadata": {},
   "outputs": [
    {
     "name": "stdout",
     "output_type": "stream",
     "text": [
      "Found 2000 images belonging to 2 classes.\n"
     ]
    }
   ],
   "source": [
    "test_datagen = ImageDataGenerator(rescale = 1./255)\n",
    "test_set = test_datagen.flow_from_directory('dataset/dataset/test_set',\n",
    "                                            target_size = (64, 64),\n",
    "                                            batch_size = 32,\n",
    "                                            class_mode = 'binary')"
   ]
  },
  {
   "cell_type": "markdown",
   "metadata": {},
   "source": [
    "### Langkah 3 - Pembuatan Model CNN"
   ]
  },
  {
   "cell_type": "markdown",
   "metadata": {},
   "source": [
    "#### Langkah 3.1.  - Inisiasi Model CNN"
   ]
  },
  {
   "cell_type": "code",
   "execution_count": 5,
   "metadata": {},
   "outputs": [],
   "source": [
    "cnn = tf.keras.models.Sequential()"
   ]
  },
  {
   "cell_type": "markdown",
   "metadata": {},
   "source": [
    "#### Langkah 3.2. - Pembuatan Layer Konvolusi 1"
   ]
  },
  {
   "cell_type": "code",
   "execution_count": 6,
   "metadata": {},
   "outputs": [],
   "source": [
    "cnn.add(tf.keras.layers.InputLayer(input_shape=(64, 64, 3)))\n",
    "cnn.add(tf.keras.layers.Conv2D(filters=32, kernel_size=3, activation='relu'))"
   ]
  },
  {
   "cell_type": "markdown",
   "metadata": {},
   "source": [
    "#### Langkah 3.3 - Pembuatan Layer Pooling 1"
   ]
  },
  {
   "cell_type": "code",
   "execution_count": 7,
   "metadata": {},
   "outputs": [],
   "source": [
    "cnn.add(tf.keras.layers.MaxPool2D(pool_size=2, strides=2))"
   ]
  },
  {
   "cell_type": "markdown",
   "metadata": {},
   "source": [
    "#### Langkah 3.4 - Pembuatan Layer Konvolusi 2 dan Pooling 2"
   ]
  },
  {
   "cell_type": "code",
   "execution_count": 8,
   "metadata": {},
   "outputs": [],
   "source": [
    "cnn.add(tf.keras.layers.Conv2D(filters=32, kernel_size=3, activation='relu'))\n",
    "cnn.add(tf.keras.layers.MaxPool2D(pool_size=2, strides=2))"
   ]
  },
  {
   "cell_type": "markdown",
   "metadata": {},
   "source": [
    "#### Langkah 3.5 - Flattening"
   ]
  },
  {
   "cell_type": "code",
   "execution_count": 9,
   "metadata": {},
   "outputs": [],
   "source": [
    "cnn.add(tf.keras.layers.Flatten())"
   ]
  },
  {
   "cell_type": "markdown",
   "metadata": {},
   "source": [
    "#### Langkah 3.6 - Fully Connected Layer 1 (Input)"
   ]
  },
  {
   "cell_type": "code",
   "execution_count": 10,
   "metadata": {},
   "outputs": [],
   "source": [
    "cnn.add(tf.keras.layers.Dense(units=128, activation='relu'))"
   ]
  },
  {
   "cell_type": "markdown",
   "metadata": {},
   "source": [
    "#### Langkah 3.7 - Fully Connected Layer 2 (Output)"
   ]
  },
  {
   "cell_type": "code",
   "execution_count": 11,
   "metadata": {},
   "outputs": [],
   "source": [
    "cnn.add(tf.keras.layers.Dense(units=1, activation='sigmoid'))"
   ]
  },
  {
   "cell_type": "markdown",
   "metadata": {},
   "source": [
    "#### Langkah 3.8 - Compile Model CNN"
   ]
  },
  {
   "cell_type": "code",
   "execution_count": 12,
   "metadata": {},
   "outputs": [],
   "source": [
    "cnn.compile(optimizer = 'adam', loss = 'binary_crossentropy', metrics = ['accuracy'])"
   ]
  },
  {
   "cell_type": "markdown",
   "metadata": {},
   "source": [
    "### Langkah 4 - Fit CNN"
   ]
  },
  {
   "cell_type": "code",
   "execution_count": 13,
   "metadata": {},
   "outputs": [
    {
     "name": "stdout",
     "output_type": "stream",
     "text": [
      "Epoch 1/25\n",
      "250/250 [==============================] - 97s 382ms/step - loss: 0.6457 - accuracy: 0.6169 - val_loss: 0.5978 - val_accuracy: 0.6705\n",
      "Epoch 2/25\n",
      "250/250 [==============================] - 23s 93ms/step - loss: 0.5800 - accuracy: 0.6883 - val_loss: 0.5461 - val_accuracy: 0.7130\n",
      "Epoch 3/25\n",
      "250/250 [==============================] - 24s 94ms/step - loss: 0.5531 - accuracy: 0.7165 - val_loss: 0.5727 - val_accuracy: 0.7150\n",
      "Epoch 4/25\n",
      "250/250 [==============================] - 23s 93ms/step - loss: 0.5277 - accuracy: 0.7351 - val_loss: 0.5200 - val_accuracy: 0.7520\n",
      "Epoch 5/25\n",
      "250/250 [==============================] - 24s 95ms/step - loss: 0.5042 - accuracy: 0.7459 - val_loss: 0.4961 - val_accuracy: 0.7620\n",
      "Epoch 6/25\n",
      "250/250 [==============================] - 23s 93ms/step - loss: 0.4814 - accuracy: 0.7692 - val_loss: 0.4969 - val_accuracy: 0.7510\n",
      "Epoch 7/25\n",
      "250/250 [==============================] - 23s 93ms/step - loss: 0.4665 - accuracy: 0.7728 - val_loss: 0.5229 - val_accuracy: 0.7620\n",
      "Epoch 8/25\n",
      "250/250 [==============================] - 23s 92ms/step - loss: 0.4458 - accuracy: 0.7841 - val_loss: 0.4667 - val_accuracy: 0.7815\n",
      "Epoch 9/25\n",
      "250/250 [==============================] - 23s 92ms/step - loss: 0.4336 - accuracy: 0.7912 - val_loss: 0.4829 - val_accuracy: 0.7705\n",
      "Epoch 10/25\n",
      "250/250 [==============================] - 24s 94ms/step - loss: 0.4186 - accuracy: 0.8052 - val_loss: 0.4612 - val_accuracy: 0.7895\n",
      "Epoch 11/25\n",
      "250/250 [==============================] - 23s 93ms/step - loss: 0.3934 - accuracy: 0.8209 - val_loss: 0.4943 - val_accuracy: 0.7785\n",
      "Epoch 12/25\n",
      "250/250 [==============================] - 23s 93ms/step - loss: 0.3842 - accuracy: 0.8211 - val_loss: 0.4588 - val_accuracy: 0.8000\n",
      "Epoch 13/25\n",
      "250/250 [==============================] - 23s 93ms/step - loss: 0.3617 - accuracy: 0.8335 - val_loss: 0.4550 - val_accuracy: 0.8000\n",
      "Epoch 14/25\n",
      "250/250 [==============================] - 23s 93ms/step - loss: 0.3617 - accuracy: 0.8344 - val_loss: 0.5299 - val_accuracy: 0.7795\n",
      "Epoch 15/25\n",
      "250/250 [==============================] - 23s 93ms/step - loss: 0.3407 - accuracy: 0.8469 - val_loss: 0.4804 - val_accuracy: 0.7905\n",
      "Epoch 16/25\n",
      "250/250 [==============================] - 23s 94ms/step - loss: 0.3176 - accuracy: 0.8634 - val_loss: 0.4818 - val_accuracy: 0.8030\n",
      "Epoch 17/25\n",
      "250/250 [==============================] - 23s 93ms/step - loss: 0.3029 - accuracy: 0.8689 - val_loss: 0.4831 - val_accuracy: 0.8000\n",
      "Epoch 18/25\n",
      "250/250 [==============================] - 24s 94ms/step - loss: 0.2941 - accuracy: 0.8735 - val_loss: 0.5386 - val_accuracy: 0.7830\n",
      "Epoch 19/25\n",
      "250/250 [==============================] - 23s 93ms/step - loss: 0.2811 - accuracy: 0.8792 - val_loss: 0.5302 - val_accuracy: 0.7885\n",
      "Epoch 20/25\n",
      "250/250 [==============================] - 23s 93ms/step - loss: 0.2618 - accuracy: 0.8879 - val_loss: 0.5666 - val_accuracy: 0.7925\n",
      "Epoch 21/25\n",
      "250/250 [==============================] - 23s 94ms/step - loss: 0.2531 - accuracy: 0.8936 - val_loss: 0.5537 - val_accuracy: 0.7820\n",
      "Epoch 22/25\n",
      "250/250 [==============================] - 24s 98ms/step - loss: 0.2371 - accuracy: 0.9029 - val_loss: 0.5229 - val_accuracy: 0.7985\n",
      "Epoch 23/25\n",
      "250/250 [==============================] - 24s 94ms/step - loss: 0.2254 - accuracy: 0.9047 - val_loss: 0.5496 - val_accuracy: 0.8030\n",
      "Epoch 24/25\n",
      "250/250 [==============================] - 23s 94ms/step - loss: 0.2166 - accuracy: 0.9121 - val_loss: 0.5586 - val_accuracy: 0.8045\n",
      "Epoch 25/25\n",
      "250/250 [==============================] - 23s 93ms/step - loss: 0.2059 - accuracy: 0.9172 - val_loss: 0.5649 - val_accuracy: 0.7880\n"
     ]
    },
    {
     "data": {
      "text/plain": [
       "<keras.src.callbacks.History at 0x17a20652ac0>"
      ]
     },
     "execution_count": 13,
     "metadata": {},
     "output_type": "execute_result"
    }
   ],
   "source": [
    "cnn.fit(x = training_set, validation_data = test_set, epochs = 25)"
   ]
  },
  {
   "cell_type": "markdown",
   "metadata": {},
   "source": [
    "### Langkah 5 - Prediksi dengan 1 Citra"
   ]
  },
  {
   "cell_type": "code",
   "execution_count": 18,
   "metadata": {},
   "outputs": [
    {
     "name": "stdout",
     "output_type": "stream",
     "text": [
      "1/1 [==============================] - 0s 18ms/step\n",
      "dog\n"
     ]
    }
   ],
   "source": [
    "import numpy as np\n",
    "from keras.preprocessing import image\n",
    "test_image = image.load_img('dataset/dataset/single_prediction/cat_or_dog_1.jpg', target_size = (64, 64))\n",
    "test_image = image.img_to_array(test_image)\n",
    "test_image = np.expand_dims(test_image, axis = 0)\n",
    "result = cnn.predict(test_image)\n",
    "training_set.class_indices\n",
    "if result[0][0] == 1:\n",
    "  prediction = 'dog'\n",
    "else:\n",
    "  prediction = 'cat'\n",
    "  \n",
    "print(prediction)"
   ]
  }
 ],
 "metadata": {
  "kernelspec": {
   "display_name": "tensorflow",
   "language": "python",
   "name": "python3"
  },
  "language_info": {
   "codemirror_mode": {
    "name": "ipython",
    "version": 3
   },
   "file_extension": ".py",
   "mimetype": "text/x-python",
   "name": "python",
   "nbconvert_exporter": "python",
   "pygments_lexer": "ipython3",
   "version": "3.8.20"
  }
 },
 "nbformat": 4,
 "nbformat_minor": 2
}
